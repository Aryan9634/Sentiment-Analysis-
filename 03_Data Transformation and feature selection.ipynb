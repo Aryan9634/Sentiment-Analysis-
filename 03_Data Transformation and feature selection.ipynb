{
 "cells": [
  {
   "cell_type": "markdown",
   "id": "45646f39",
   "metadata": {},
   "source": [
    "**03_Data Transformation**"
   ]
  },
  {
   "cell_type": "markdown",
   "id": "04c77011",
   "metadata": {},
   "source": [
    "<u>Importing required modules</u>"
   ]
  },
  {
   "cell_type": "code",
   "execution_count": 1,
   "id": "fa7082fa",
   "metadata": {},
   "outputs": [],
   "source": [
    "#Data preprocessing \n",
    "import numpy as np\n",
    "import pandas as pd\n",
    "from sklearn.feature_extraction.text import TfidfVectorizer\n",
    "from sklearn.discriminant_analysis import LinearDiscriminantAnalysis\n",
    "from sklearn.feature_selection import SelectKBest,f_classif\n",
    "\n",
    "#Handling warnings\n",
    "import warnings\n",
    "warnings.filterwarnings(\"ignore\")\n",
    "\n",
    "import pickle\n",
    "import os"
   ]
  },
  {
   "cell_type": "markdown",
   "id": "b2969a93",
   "metadata": {},
   "source": [
    "<u>Loading data</u>"
   ]
  },
  {
   "cell_type": "code",
   "execution_count": 2,
   "id": "75d2340d",
   "metadata": {},
   "outputs": [],
   "source": [
    "train = pd.read_csv(\"processed_train\",keep_default_na=False)\n",
    "test = pd.read_csv(\"processed_test\",keep_default_na=False)"
   ]
  },
  {
   "cell_type": "code",
   "execution_count": 3,
   "id": "73af2295",
   "metadata": {
    "scrolled": true
   },
   "outputs": [
    {
     "data": {
      "text/html": [
       "<div>\n",
       "<style scoped>\n",
       "    .dataframe tbody tr th:only-of-type {\n",
       "        vertical-align: middle;\n",
       "    }\n",
       "\n",
       "    .dataframe tbody tr th {\n",
       "        vertical-align: top;\n",
       "    }\n",
       "\n",
       "    .dataframe thead th {\n",
       "        text-align: right;\n",
       "    }\n",
       "</style>\n",
       "<table border=\"1\" class=\"dataframe\">\n",
       "  <thead>\n",
       "    <tr style=\"text-align: right;\">\n",
       "      <th></th>\n",
       "      <th>tweet</th>\n",
       "      <th>sentiment</th>\n",
       "      <th>tweet_time</th>\n",
       "      <th>user_age</th>\n",
       "      <th>Country</th>\n",
       "      <th>population</th>\n",
       "      <th>land_area</th>\n",
       "      <th>density</th>\n",
       "    </tr>\n",
       "  </thead>\n",
       "  <tbody>\n",
       "    <tr>\n",
       "      <th>0</th>\n",
       "      <td>respond go</td>\n",
       "      <td>neutral</td>\n",
       "      <td>morning</td>\n",
       "      <td>0-20</td>\n",
       "      <td>Afghanistan</td>\n",
       "      <td>38928346</td>\n",
       "      <td>652860.0</td>\n",
       "      <td>60</td>\n",
       "    </tr>\n",
       "    <tr>\n",
       "      <th>1</th>\n",
       "      <td>sooo sad miss san diego</td>\n",
       "      <td>negative</td>\n",
       "      <td>noon</td>\n",
       "      <td>21-30</td>\n",
       "      <td>Albania</td>\n",
       "      <td>2877797</td>\n",
       "      <td>27400.0</td>\n",
       "      <td>105</td>\n",
       "    </tr>\n",
       "    <tr>\n",
       "      <th>2</th>\n",
       "      <td>boss bulli</td>\n",
       "      <td>negative</td>\n",
       "      <td>night</td>\n",
       "      <td>31-45</td>\n",
       "      <td>Algeria</td>\n",
       "      <td>43851044</td>\n",
       "      <td>2381740.0</td>\n",
       "      <td>18</td>\n",
       "    </tr>\n",
       "    <tr>\n",
       "      <th>3</th>\n",
       "      <td>interview leav alon</td>\n",
       "      <td>negative</td>\n",
       "      <td>morning</td>\n",
       "      <td>46-60</td>\n",
       "      <td>Andorra</td>\n",
       "      <td>77265</td>\n",
       "      <td>470.0</td>\n",
       "      <td>164</td>\n",
       "    </tr>\n",
       "    <tr>\n",
       "      <th>4</th>\n",
       "      <td>son put releas alreadi bought</td>\n",
       "      <td>negative</td>\n",
       "      <td>noon</td>\n",
       "      <td>60-70</td>\n",
       "      <td>Angola</td>\n",
       "      <td>32866272</td>\n",
       "      <td>1246700.0</td>\n",
       "      <td>26</td>\n",
       "    </tr>\n",
       "  </tbody>\n",
       "</table>\n",
       "</div>"
      ],
      "text/plain": [
       "                           tweet sentiment tweet_time user_age      Country  \\\n",
       "0                     respond go   neutral    morning     0-20  Afghanistan   \n",
       "1        sooo sad miss san diego  negative       noon    21-30      Albania   \n",
       "2                     boss bulli  negative      night    31-45      Algeria   \n",
       "3            interview leav alon  negative    morning    46-60      Andorra   \n",
       "4  son put releas alreadi bought  negative       noon    60-70       Angola   \n",
       "\n",
       "   population  land_area  density  \n",
       "0    38928346   652860.0       60  \n",
       "1     2877797    27400.0      105  \n",
       "2    43851044  2381740.0       18  \n",
       "3       77265      470.0      164  \n",
       "4    32866272  1246700.0       26  "
      ]
     },
     "execution_count": 3,
     "metadata": {},
     "output_type": "execute_result"
    }
   ],
   "source": [
    "train.head()"
   ]
  },
  {
   "cell_type": "code",
   "execution_count": 4,
   "id": "e59ce8a6",
   "metadata": {},
   "outputs": [
    {
     "data": {
      "text/html": [
       "<div>\n",
       "<style scoped>\n",
       "    .dataframe tbody tr th:only-of-type {\n",
       "        vertical-align: middle;\n",
       "    }\n",
       "\n",
       "    .dataframe tbody tr th {\n",
       "        vertical-align: top;\n",
       "    }\n",
       "\n",
       "    .dataframe thead th {\n",
       "        text-align: right;\n",
       "    }\n",
       "</style>\n",
       "<table border=\"1\" class=\"dataframe\">\n",
       "  <thead>\n",
       "    <tr style=\"text-align: right;\">\n",
       "      <th></th>\n",
       "      <th>tweet</th>\n",
       "      <th>sentiment</th>\n",
       "      <th>tweet_time</th>\n",
       "      <th>user_age</th>\n",
       "      <th>Country</th>\n",
       "      <th>population</th>\n",
       "      <th>land_area</th>\n",
       "      <th>density</th>\n",
       "    </tr>\n",
       "  </thead>\n",
       "  <tbody>\n",
       "    <tr>\n",
       "      <th>0</th>\n",
       "      <td>last session day http twitpic com ezh</td>\n",
       "      <td>neutral</td>\n",
       "      <td>morning</td>\n",
       "      <td>0-20</td>\n",
       "      <td>Afghanistan</td>\n",
       "      <td>38928346.0</td>\n",
       "      <td>652860.0</td>\n",
       "      <td>60.0</td>\n",
       "    </tr>\n",
       "    <tr>\n",
       "      <th>1</th>\n",
       "      <td>shanghai also realli excit precis skyscrap gal...</td>\n",
       "      <td>positive</td>\n",
       "      <td>noon</td>\n",
       "      <td>21-30</td>\n",
       "      <td>Albania</td>\n",
       "      <td>2877797.0</td>\n",
       "      <td>27400.0</td>\n",
       "      <td>105.0</td>\n",
       "    </tr>\n",
       "    <tr>\n",
       "      <th>2</th>\n",
       "      <td>recess hit veroniqu branquinho quit compani shame</td>\n",
       "      <td>negative</td>\n",
       "      <td>night</td>\n",
       "      <td>31-45</td>\n",
       "      <td>Algeria</td>\n",
       "      <td>43851044.0</td>\n",
       "      <td>2381740.0</td>\n",
       "      <td>18.0</td>\n",
       "    </tr>\n",
       "    <tr>\n",
       "      <th>3</th>\n",
       "      <td>happi bday</td>\n",
       "      <td>positive</td>\n",
       "      <td>morning</td>\n",
       "      <td>46-60</td>\n",
       "      <td>Andorra</td>\n",
       "      <td>77265.0</td>\n",
       "      <td>470.0</td>\n",
       "      <td>164.0</td>\n",
       "    </tr>\n",
       "    <tr>\n",
       "      <th>4</th>\n",
       "      <td>http twitpic com w p like</td>\n",
       "      <td>positive</td>\n",
       "      <td>noon</td>\n",
       "      <td>60-70</td>\n",
       "      <td>Angola</td>\n",
       "      <td>32866272.0</td>\n",
       "      <td>1246700.0</td>\n",
       "      <td>26.0</td>\n",
       "    </tr>\n",
       "  </tbody>\n",
       "</table>\n",
       "</div>"
      ],
      "text/plain": [
       "                                               tweet sentiment tweet_time  \\\n",
       "0              last session day http twitpic com ezh   neutral    morning   \n",
       "1  shanghai also realli excit precis skyscrap gal...  positive       noon   \n",
       "2  recess hit veroniqu branquinho quit compani shame  negative      night   \n",
       "3                                         happi bday  positive    morning   \n",
       "4                          http twitpic com w p like  positive       noon   \n",
       "\n",
       "  user_age      Country  population  land_area  density  \n",
       "0     0-20  Afghanistan  38928346.0   652860.0     60.0  \n",
       "1    21-30      Albania   2877797.0    27400.0    105.0  \n",
       "2    31-45      Algeria  43851044.0  2381740.0     18.0  \n",
       "3    46-60      Andorra     77265.0      470.0    164.0  \n",
       "4    60-70       Angola  32866272.0  1246700.0     26.0  "
      ]
     },
     "execution_count": 4,
     "metadata": {},
     "output_type": "execute_result"
    }
   ],
   "source": [
    "test.head()"
   ]
  },
  {
   "cell_type": "markdown",
   "id": "cbc7dab8",
   "metadata": {},
   "source": [
    "Now for sentiment analysis we only need the tweet and sentiment, so we won'nt be using other features"
   ]
  },
  {
   "cell_type": "code",
   "execution_count": 5,
   "id": "577fa99c",
   "metadata": {},
   "outputs": [],
   "source": [
    "train.drop(columns=list(train.columns[2:]),inplace=True)\n",
    "test.drop(columns=list(test.columns[2:]),inplace=True)"
   ]
  },
  {
   "cell_type": "code",
   "execution_count": 6,
   "id": "18907746",
   "metadata": {},
   "outputs": [
    {
     "data": {
      "text/html": [
       "<div>\n",
       "<style scoped>\n",
       "    .dataframe tbody tr th:only-of-type {\n",
       "        vertical-align: middle;\n",
       "    }\n",
       "\n",
       "    .dataframe tbody tr th {\n",
       "        vertical-align: top;\n",
       "    }\n",
       "\n",
       "    .dataframe thead th {\n",
       "        text-align: right;\n",
       "    }\n",
       "</style>\n",
       "<table border=\"1\" class=\"dataframe\">\n",
       "  <thead>\n",
       "    <tr style=\"text-align: right;\">\n",
       "      <th></th>\n",
       "      <th>tweet</th>\n",
       "      <th>sentiment</th>\n",
       "    </tr>\n",
       "  </thead>\n",
       "  <tbody>\n",
       "    <tr>\n",
       "      <th>0</th>\n",
       "      <td>respond go</td>\n",
       "      <td>neutral</td>\n",
       "    </tr>\n",
       "    <tr>\n",
       "      <th>1</th>\n",
       "      <td>sooo sad miss san diego</td>\n",
       "      <td>negative</td>\n",
       "    </tr>\n",
       "    <tr>\n",
       "      <th>2</th>\n",
       "      <td>boss bulli</td>\n",
       "      <td>negative</td>\n",
       "    </tr>\n",
       "  </tbody>\n",
       "</table>\n",
       "</div>"
      ],
      "text/plain": [
       "                     tweet sentiment\n",
       "0               respond go   neutral\n",
       "1  sooo sad miss san diego  negative\n",
       "2               boss bulli  negative"
      ]
     },
     "execution_count": 6,
     "metadata": {},
     "output_type": "execute_result"
    }
   ],
   "source": [
    "train.head(3)"
   ]
  },
  {
   "cell_type": "code",
   "execution_count": 7,
   "id": "7f978bc4",
   "metadata": {},
   "outputs": [
    {
     "data": {
      "text/html": [
       "<div>\n",
       "<style scoped>\n",
       "    .dataframe tbody tr th:only-of-type {\n",
       "        vertical-align: middle;\n",
       "    }\n",
       "\n",
       "    .dataframe tbody tr th {\n",
       "        vertical-align: top;\n",
       "    }\n",
       "\n",
       "    .dataframe thead th {\n",
       "        text-align: right;\n",
       "    }\n",
       "</style>\n",
       "<table border=\"1\" class=\"dataframe\">\n",
       "  <thead>\n",
       "    <tr style=\"text-align: right;\">\n",
       "      <th></th>\n",
       "      <th>tweet</th>\n",
       "      <th>sentiment</th>\n",
       "    </tr>\n",
       "  </thead>\n",
       "  <tbody>\n",
       "    <tr>\n",
       "      <th>0</th>\n",
       "      <td>last session day http twitpic com ezh</td>\n",
       "      <td>neutral</td>\n",
       "    </tr>\n",
       "    <tr>\n",
       "      <th>1</th>\n",
       "      <td>shanghai also realli excit precis skyscrap gal...</td>\n",
       "      <td>positive</td>\n",
       "    </tr>\n",
       "    <tr>\n",
       "      <th>2</th>\n",
       "      <td>recess hit veroniqu branquinho quit compani shame</td>\n",
       "      <td>negative</td>\n",
       "    </tr>\n",
       "  </tbody>\n",
       "</table>\n",
       "</div>"
      ],
      "text/plain": [
       "                                               tweet sentiment\n",
       "0              last session day http twitpic com ezh   neutral\n",
       "1  shanghai also realli excit precis skyscrap gal...  positive\n",
       "2  recess hit veroniqu branquinho quit compani shame  negative"
      ]
     },
     "execution_count": 7,
     "metadata": {},
     "output_type": "execute_result"
    }
   ],
   "source": [
    "test.head(3)"
   ]
  },
  {
   "cell_type": "markdown",
   "id": "9142896e",
   "metadata": {},
   "source": [
    "<u>Vectorization : Converting texts to vectors</u>"
   ]
  },
  {
   "cell_type": "code",
   "execution_count": 8,
   "id": "9a622099",
   "metadata": {},
   "outputs": [],
   "source": [
    "tfidf = TfidfVectorizer(ngram_range=(1,3),max_features=8000)"
   ]
  },
  {
   "cell_type": "code",
   "execution_count": 9,
   "id": "7752a499",
   "metadata": {},
   "outputs": [],
   "source": [
    "#Vectorizing train and test tweets\n",
    "Vec_train_tweet = tfidf.fit_transform(train.tweet).toarray()\n",
    "Vec_test_tweet = tfidf.fit_transform(test.tweet).toarray()"
   ]
  },
  {
   "cell_type": "code",
   "execution_count": 10,
   "id": "2881ff3a",
   "metadata": {},
   "outputs": [],
   "source": [
    "#Creating a pickle file for storing vectorizer\n",
    "pickle.dump(tfidf,open(\"vectorizer.pkl\",\"wb\"))"
   ]
  },
  {
   "cell_type": "code",
   "execution_count": 11,
   "id": "000506af",
   "metadata": {},
   "outputs": [
    {
     "data": {
      "text/plain": [
       "((27480, 8000), (3534, 8000))"
      ]
     },
     "execution_count": 11,
     "metadata": {},
     "output_type": "execute_result"
    }
   ],
   "source": [
    "#Checking the shapes\n",
    "Vec_train_tweet.shape,Vec_test_tweet.shape"
   ]
  },
  {
   "cell_type": "markdown",
   "id": "1e41b316",
   "metadata": {},
   "source": [
    "<u>Feature selection</u>"
   ]
  },
  {
   "cell_type": "markdown",
   "id": "b0efd8fb",
   "metadata": {},
   "source": [
    "- Linear Discriminant Analysis"
   ]
  },
  {
   "cell_type": "code",
   "execution_count": 12,
   "id": "cc2d1177",
   "metadata": {},
   "outputs": [],
   "source": [
    "# lda = LinearDiscriminantAnalysis()"
   ]
  },
  {
   "cell_type": "code",
   "execution_count": 13,
   "id": "c982f5f4",
   "metadata": {},
   "outputs": [],
   "source": [
    "# X_train_lda = lda.fit_transform(Vec_train_tweet,train.sentiment)\n",
    "# X_test_lda = lda.fit_transform(Vec_test_tweet,test.sentiment)"
   ]
  },
  {
   "cell_type": "code",
   "execution_count": 14,
   "id": "76ba49a0",
   "metadata": {},
   "outputs": [],
   "source": [
    "# pickle.dump(lda,open(\"LDA.pkl\",\"wb\"))"
   ]
  },
  {
   "cell_type": "code",
   "execution_count": 15,
   "id": "e645d40f",
   "metadata": {
    "scrolled": true
   },
   "outputs": [],
   "source": [
    "# X_train_lda.shape,X_test_lda.shape"
   ]
  },
  {
   "cell_type": "markdown",
   "id": "dd82ac15",
   "metadata": {},
   "source": [
    "LDA NOT GIVING GOOD RESULTS "
   ]
  },
  {
   "cell_type": "markdown",
   "id": "7e081428",
   "metadata": {},
   "source": [
    "- Select K-best"
   ]
  },
  {
   "cell_type": "code",
   "execution_count": 72,
   "id": "b0aa24e7",
   "metadata": {},
   "outputs": [],
   "source": [
    "selector = SelectKBest(score_func=f_classif,k=50)"
   ]
  },
  {
   "cell_type": "code",
   "execution_count": 73,
   "id": "94afc9d1",
   "metadata": {},
   "outputs": [],
   "source": [
    "X_train_kbest = selector.fit_transform(Vec_train_tweet,train.sentiment)\n",
    "X_test_kbest = selector.fit_transform(Vec_test_tweet,test.sentiment)"
   ]
  },
  {
   "cell_type": "code",
   "execution_count": 74,
   "id": "f7fe44b8",
   "metadata": {},
   "outputs": [],
   "source": [
    "pickle.dump(selector,open(\"selector.pkl\",\"wb\"))"
   ]
  },
  {
   "cell_type": "code",
   "execution_count": 75,
   "id": "4a38c5df",
   "metadata": {},
   "outputs": [
    {
     "data": {
      "text/plain": [
       "((27480, 50), (3534, 50))"
      ]
     },
     "execution_count": 75,
     "metadata": {},
     "output_type": "execute_result"
    }
   ],
   "source": [
    "X_train_kbest.shape,X_test_kbest.shape"
   ]
  },
  {
   "cell_type": "code",
   "execution_count": 76,
   "id": "044f9486",
   "metadata": {},
   "outputs": [],
   "source": [
    "#Saving the vectorized and reduced data\n",
    "pickle.dump(X_train_kbest,open(\"X_train.pkl\",\"wb\"))\n",
    "pickle.dump(X_test_kbest,open(\"X_test.pkl\",\"wb\"))"
   ]
  },
  {
   "cell_type": "code",
   "execution_count": 77,
   "id": "bae9244e",
   "metadata": {},
   "outputs": [
    {
     "data": {
      "text/plain": [
       "(27480, 50)"
      ]
     },
     "execution_count": 77,
     "metadata": {},
     "output_type": "execute_result"
    }
   ],
   "source": [
    "#Checking\n",
    "pickle.load(open(\"X_train.pkl\",\"rb\")).shape"
   ]
  },
  {
   "cell_type": "markdown",
   "id": "e6127b97",
   "metadata": {},
   "source": [
    "*Next -> 04_Modelling and training*"
   ]
  }
 ],
 "metadata": {
  "kernelspec": {
   "display_name": "Python 3 (ipykernel)",
   "language": "python",
   "name": "python3"
  },
  "language_info": {
   "codemirror_mode": {
    "name": "ipython",
    "version": 3
   },
   "file_extension": ".py",
   "mimetype": "text/x-python",
   "name": "python",
   "nbconvert_exporter": "python",
   "pygments_lexer": "ipython3",
   "version": "3.10.0"
  }
 },
 "nbformat": 4,
 "nbformat_minor": 5
}
