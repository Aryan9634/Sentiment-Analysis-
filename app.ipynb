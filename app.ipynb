{
 "cells": [
  {
   "cell_type": "code",
   "execution_count": 1,
   "id": "d4107545",
   "metadata": {},
   "outputs": [],
   "source": [
    "from flask import Flask, render_template, request\n",
    "import nltk\n",
    "from nltk.stem import PorterStemmer\n",
    "from nltk.corpus import stopwords\n",
    "from nltk.sentiment.vader import SentimentIntensityAnalyzer \n",
    "import re\n",
    "import pickle\n",
    "import warnings\n",
    "warnings.filterwarnings(\"ignore\")"
   ]
  },
  {
   "cell_type": "code",
   "execution_count": 2,
   "id": "3e5d3a1d",
   "metadata": {},
   "outputs": [],
   "source": [
    "stemmer = PorterStemmer()\n",
    "sia = SentimentIntensityAnalyzer()\n",
    "vec = pickle.load(open(\"vectorizer.pkl\",\"rb\"))\n",
    "selector = pickle.load(open(\"selector.pkl\",\"rb\"))\n",
    "model = pickle.load(open(\"voting_Model.pkl\",\"rb\"))"
   ]
  },
  {
   "cell_type": "code",
   "execution_count": 3,
   "id": "b789c74c",
   "metadata": {},
   "outputs": [],
   "source": [
    "def textProcessing_Vectorizing(text):\n",
    "    text = text.lower()\n",
    "    text = re.sub(\"^[a-z]\",\" \",text)\n",
    "    text = [stemmer.stem(word) for word in nltk.word_tokenize(text) if word not in stopwords.words(\"english\")]\n",
    "    text = \" \".join(text)\n",
    "    vec_text = vec.transform([text]).toarray()\n",
    "    vec_text = selector.transform(vec_text)\n",
    "    return vec_text\n",
    "def polarityScores(text):\n",
    "    sentimentScores = sia.polarity_scores(text)\n",
    "    if sentimentScores[\"compound\"]<0:\n",
    "        return \"negative\"\n",
    "    elif sentimentScores[\"compound\"]==0:\n",
    "        return \"neutral\"\n",
    "    elif sentimentScores[\"compound\"]>0:\n",
    "        return \"positive\""
   ]
  },
  {
   "cell_type": "code",
   "execution_count": 4,
   "id": "3f11f843",
   "metadata": {},
   "outputs": [
    {
     "name": "stdout",
     "output_type": "stream",
     "text": [
      " * Serving Flask app '__main__' (lazy loading)\n",
      " * Environment: production\n",
      "\u001b[31m   WARNING: This is a development server. Do not use it in a production deployment.\u001b[0m\n",
      "\u001b[2m   Use a production WSGI server instead.\u001b[0m\n",
      " * Debug mode: off\n"
     ]
    },
    {
     "name": "stderr",
     "output_type": "stream",
     "text": [
      " * Running on http://127.0.0.1:5000/ (Press CTRL+C to quit)\n",
      "127.0.0.1 - - [09/Jun/2023 16:15:19] \"GET / HTTP/1.1\" 200 -\n",
      "127.0.0.1 - - [09/Jun/2023 16:15:19] \"GET /favicon.ico HTTP/1.1\" 404 -\n",
      "127.0.0.1 - - [09/Jun/2023 16:21:30] \"POST /predict HTTP/1.1\" 200 -\n",
      "127.0.0.1 - - [09/Jun/2023 16:21:36] \"POST /predict HTTP/1.1\" 200 -\n",
      "127.0.0.1 - - [09/Jun/2023 16:21:41] \"POST /predict HTTP/1.1\" 200 -\n",
      "127.0.0.1 - - [09/Jun/2023 16:22:16] \"GET / HTTP/1.1\" 200 -\n",
      "127.0.0.1 - - [09/Jun/2023 16:22:31] \"POST /predict HTTP/1.1\" 200 -\n",
      "127.0.0.1 - - [09/Jun/2023 16:22:36] \"POST /predict HTTP/1.1\" 200 -\n",
      "127.0.0.1 - - [09/Jun/2023 16:22:42] \"POST /predict HTTP/1.1\" 200 -\n"
     ]
    }
   ],
   "source": [
    "app = Flask(__name__)\n",
    "\n",
    "@app.route('/')\n",
    "def home():\n",
    "    return render_template('index.html')\n",
    "\n",
    "@app.route('/predict', methods=['POST'])\n",
    "def predict():\n",
    "    text = request.form['text']\n",
    "    vec_text = textProcessing_Vectorizing(text)\n",
    "    model_prediction = model.predict(vec_text)[0]\n",
    "    vader_prediction = polarityScores(text)\n",
    "    if vader_prediction==\"positive\":\n",
    "        definition=\"A text that expresses a favorable or optimistic view towards a subject or event.\\\n",
    "        It may convey happiness, satisfaction, excitement, admiration, or other positive emotions.\"\n",
    "    elif vader_prediction==\"negative\":\n",
    "        definition=\"A text that expresses an unfavorable or pessimistic view towards a subject or event.\\\n",
    "        It may convey sadness, anger, disappointment, frustration, or other negative emotions.\"\n",
    "    elif vader_prediction==\"neutral\":\n",
    "        definition=\"A text that expresses a factual or objective view towards a subject or event without \\\n",
    "        showing any emotional bias. It may provide information or describe something without conveying any \\\n",
    "        particular feeling or judgment.\"\n",
    "    return render_template('index.html',head=vader_prediction.upper(),prediction1=model_prediction,prediction2=vader_prediction,definition=definition)\n",
    "\n",
    "if __name__ == '__main__':\n",
    "    app.run(debug=False)"
   ]
  },
  {
   "cell_type": "code",
   "execution_count": null,
   "id": "29e8e7c9",
   "metadata": {},
   "outputs": [],
   "source": []
  }
 ],
 "metadata": {
  "kernelspec": {
   "display_name": "Python 3 (ipykernel)",
   "language": "python",
   "name": "python3"
  },
  "language_info": {
   "codemirror_mode": {
    "name": "ipython",
    "version": 3
   },
   "file_extension": ".py",
   "mimetype": "text/x-python",
   "name": "python",
   "nbconvert_exporter": "python",
   "pygments_lexer": "ipython3",
   "version": "3.10.0"
  }
 },
 "nbformat": 4,
 "nbformat_minor": 5
}
