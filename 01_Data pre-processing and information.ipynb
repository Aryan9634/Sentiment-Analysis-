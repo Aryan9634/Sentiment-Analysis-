{
 "cells": [
  {
   "cell_type": "markdown",
   "id": "0cee227e",
   "metadata": {},
   "source": [
    "**01 : Data Pre-processing and basic information about data**"
   ]
  },
  {
   "cell_type": "markdown",
   "id": "7fcf8261",
   "metadata": {},
   "source": [
    "<u>Importing required modules</u>"
   ]
  },
  {
   "cell_type": "code",
   "execution_count": 1,
   "id": "add1edaa",
   "metadata": {},
   "outputs": [],
   "source": [
    "#Data pre-processing\n",
    "import numpy as np\n",
    "import pandas as pd\n",
    "import re\n",
    "import nltk\n",
    "from nltk.corpus import stopwords\n",
    "from nltk.stem import PorterStemmer\n",
    "\n",
    "#Handling warnings\n",
    "import warnings\n",
    "warnings.filterwarnings(\"ignore\")"
   ]
  },
  {
   "cell_type": "markdown",
   "id": "d565dcb6",
   "metadata": {},
   "source": [
    "<u>Loading data</u>"
   ]
  },
  {
   "cell_type": "code",
   "execution_count": 2,
   "id": "3763a015",
   "metadata": {},
   "outputs": [
    {
     "data": {
      "text/plain": [
       "((27481, 10), (4815, 9))"
      ]
     },
     "execution_count": 2,
     "metadata": {},
     "output_type": "execute_result"
    }
   ],
   "source": [
    "train = pd.read_csv(\"train.csv\",encoding=\"latin\") #training data\n",
    "test = pd.read_csv(\"test.csv\",encoding=\"latin\") #testing data\n",
    "train.shape,test.shape"
   ]
  },
  {
   "cell_type": "code",
   "execution_count": 3,
   "id": "d7807529",
   "metadata": {},
   "outputs": [
    {
     "data": {
      "text/html": [
       "<div>\n",
       "<style scoped>\n",
       "    .dataframe tbody tr th:only-of-type {\n",
       "        vertical-align: middle;\n",
       "    }\n",
       "\n",
       "    .dataframe tbody tr th {\n",
       "        vertical-align: top;\n",
       "    }\n",
       "\n",
       "    .dataframe thead th {\n",
       "        text-align: right;\n",
       "    }\n",
       "</style>\n",
       "<table border=\"1\" class=\"dataframe\">\n",
       "  <thead>\n",
       "    <tr style=\"text-align: right;\">\n",
       "      <th></th>\n",
       "      <th>textID</th>\n",
       "      <th>text</th>\n",
       "      <th>selected_text</th>\n",
       "      <th>sentiment</th>\n",
       "      <th>Time of Tweet</th>\n",
       "      <th>Age of User</th>\n",
       "      <th>Country</th>\n",
       "      <th>Population -2020</th>\n",
       "      <th>Land Area (Km²)</th>\n",
       "      <th>Density (P/Km²)</th>\n",
       "    </tr>\n",
       "  </thead>\n",
       "  <tbody>\n",
       "    <tr>\n",
       "      <th>0</th>\n",
       "      <td>cb774db0d1</td>\n",
       "      <td>I`d have responded, if I were going</td>\n",
       "      <td>I`d have responded, if I were going</td>\n",
       "      <td>neutral</td>\n",
       "      <td>morning</td>\n",
       "      <td>0-20</td>\n",
       "      <td>Afghanistan</td>\n",
       "      <td>38928346</td>\n",
       "      <td>652860.0</td>\n",
       "      <td>60</td>\n",
       "    </tr>\n",
       "    <tr>\n",
       "      <th>1</th>\n",
       "      <td>549e992a42</td>\n",
       "      <td>Sooo SAD I will miss you here in San Diego!!!</td>\n",
       "      <td>Sooo SAD</td>\n",
       "      <td>negative</td>\n",
       "      <td>noon</td>\n",
       "      <td>21-30</td>\n",
       "      <td>Albania</td>\n",
       "      <td>2877797</td>\n",
       "      <td>27400.0</td>\n",
       "      <td>105</td>\n",
       "    </tr>\n",
       "    <tr>\n",
       "      <th>2</th>\n",
       "      <td>088c60f138</td>\n",
       "      <td>my boss is bullying me...</td>\n",
       "      <td>bullying me</td>\n",
       "      <td>negative</td>\n",
       "      <td>night</td>\n",
       "      <td>31-45</td>\n",
       "      <td>Algeria</td>\n",
       "      <td>43851044</td>\n",
       "      <td>2381740.0</td>\n",
       "      <td>18</td>\n",
       "    </tr>\n",
       "  </tbody>\n",
       "</table>\n",
       "</div>"
      ],
      "text/plain": [
       "       textID                                            text  \\\n",
       "0  cb774db0d1             I`d have responded, if I were going   \n",
       "1  549e992a42   Sooo SAD I will miss you here in San Diego!!!   \n",
       "2  088c60f138                       my boss is bullying me...   \n",
       "\n",
       "                         selected_text sentiment Time of Tweet Age of User  \\\n",
       "0  I`d have responded, if I were going   neutral       morning        0-20   \n",
       "1                             Sooo SAD  negative          noon       21-30   \n",
       "2                          bullying me  negative         night       31-45   \n",
       "\n",
       "       Country  Population -2020  Land Area (Km²)  Density (P/Km²)  \n",
       "0  Afghanistan          38928346         652860.0               60  \n",
       "1      Albania           2877797          27400.0              105  \n",
       "2      Algeria          43851044        2381740.0               18  "
      ]
     },
     "execution_count": 3,
     "metadata": {},
     "output_type": "execute_result"
    }
   ],
   "source": [
    "train.head(3)"
   ]
  },
  {
   "cell_type": "code",
   "execution_count": 4,
   "id": "9fcc5909",
   "metadata": {
    "scrolled": true
   },
   "outputs": [
    {
     "data": {
      "text/html": [
       "<div>\n",
       "<style scoped>\n",
       "    .dataframe tbody tr th:only-of-type {\n",
       "        vertical-align: middle;\n",
       "    }\n",
       "\n",
       "    .dataframe tbody tr th {\n",
       "        vertical-align: top;\n",
       "    }\n",
       "\n",
       "    .dataframe thead th {\n",
       "        text-align: right;\n",
       "    }\n",
       "</style>\n",
       "<table border=\"1\" class=\"dataframe\">\n",
       "  <thead>\n",
       "    <tr style=\"text-align: right;\">\n",
       "      <th></th>\n",
       "      <th>textID</th>\n",
       "      <th>text</th>\n",
       "      <th>sentiment</th>\n",
       "      <th>Time of Tweet</th>\n",
       "      <th>Age of User</th>\n",
       "      <th>Country</th>\n",
       "      <th>Population -2020</th>\n",
       "      <th>Land Area (Km²)</th>\n",
       "      <th>Density (P/Km²)</th>\n",
       "    </tr>\n",
       "  </thead>\n",
       "  <tbody>\n",
       "    <tr>\n",
       "      <th>0</th>\n",
       "      <td>f87dea47db</td>\n",
       "      <td>Last session of the day  http://twitpic.com/67ezh</td>\n",
       "      <td>neutral</td>\n",
       "      <td>morning</td>\n",
       "      <td>0-20</td>\n",
       "      <td>Afghanistan</td>\n",
       "      <td>38928346.0</td>\n",
       "      <td>652860.0</td>\n",
       "      <td>60.0</td>\n",
       "    </tr>\n",
       "    <tr>\n",
       "      <th>1</th>\n",
       "      <td>96d74cb729</td>\n",
       "      <td>Shanghai is also really exciting (precisely -...</td>\n",
       "      <td>positive</td>\n",
       "      <td>noon</td>\n",
       "      <td>21-30</td>\n",
       "      <td>Albania</td>\n",
       "      <td>2877797.0</td>\n",
       "      <td>27400.0</td>\n",
       "      <td>105.0</td>\n",
       "    </tr>\n",
       "    <tr>\n",
       "      <th>2</th>\n",
       "      <td>eee518ae67</td>\n",
       "      <td>Recession hit Veronique Branquinho, she has to...</td>\n",
       "      <td>negative</td>\n",
       "      <td>night</td>\n",
       "      <td>31-45</td>\n",
       "      <td>Algeria</td>\n",
       "      <td>43851044.0</td>\n",
       "      <td>2381740.0</td>\n",
       "      <td>18.0</td>\n",
       "    </tr>\n",
       "  </tbody>\n",
       "</table>\n",
       "</div>"
      ],
      "text/plain": [
       "       textID                                               text sentiment  \\\n",
       "0  f87dea47db  Last session of the day  http://twitpic.com/67ezh   neutral   \n",
       "1  96d74cb729   Shanghai is also really exciting (precisely -...  positive   \n",
       "2  eee518ae67  Recession hit Veronique Branquinho, she has to...  negative   \n",
       "\n",
       "  Time of Tweet Age of User      Country  Population -2020  Land Area (Km²)  \\\n",
       "0       morning        0-20  Afghanistan        38928346.0         652860.0   \n",
       "1          noon       21-30      Albania         2877797.0          27400.0   \n",
       "2         night       31-45      Algeria        43851044.0        2381740.0   \n",
       "\n",
       "   Density (P/Km²)  \n",
       "0             60.0  \n",
       "1            105.0  \n",
       "2             18.0  "
      ]
     },
     "execution_count": 4,
     "metadata": {},
     "output_type": "execute_result"
    }
   ],
   "source": [
    "test.head(3)"
   ]
  },
  {
   "cell_type": "markdown",
   "id": "15a2a766",
   "metadata": {},
   "source": [
    "<u>Basic information about data</u>"
   ]
  },
  {
   "cell_type": "code",
   "execution_count": 5,
   "id": "105e1938",
   "metadata": {},
   "outputs": [
    {
     "name": "stdout",
     "output_type": "stream",
     "text": [
      "<class 'pandas.core.frame.DataFrame'>\n",
      "RangeIndex: 27481 entries, 0 to 27480\n",
      "Data columns (total 10 columns):\n",
      " #   Column            Non-Null Count  Dtype  \n",
      "---  ------            --------------  -----  \n",
      " 0   textID            27481 non-null  object \n",
      " 1   text              27480 non-null  object \n",
      " 2   selected_text     27480 non-null  object \n",
      " 3   sentiment         27481 non-null  object \n",
      " 4   Time of Tweet     27481 non-null  object \n",
      " 5   Age of User       27481 non-null  object \n",
      " 6   Country           27481 non-null  object \n",
      " 7   Population -2020  27481 non-null  int64  \n",
      " 8   Land Area (Km²)   27481 non-null  float64\n",
      " 9   Density (P/Km²)   27481 non-null  int64  \n",
      "dtypes: float64(1), int64(2), object(7)\n",
      "memory usage: 2.1+ MB\n",
      "<class 'pandas.core.frame.DataFrame'>\n",
      "RangeIndex: 4815 entries, 0 to 4814\n",
      "Data columns (total 9 columns):\n",
      " #   Column            Non-Null Count  Dtype  \n",
      "---  ------            --------------  -----  \n",
      " 0   textID            3534 non-null   object \n",
      " 1   text              3534 non-null   object \n",
      " 2   sentiment         3534 non-null   object \n",
      " 3   Time of Tweet     3534 non-null   object \n",
      " 4   Age of User       3534 non-null   object \n",
      " 5   Country           3534 non-null   object \n",
      " 6   Population -2020  3534 non-null   float64\n",
      " 7   Land Area (Km²)   3534 non-null   float64\n",
      " 8   Density (P/Km²)   3534 non-null   float64\n",
      "dtypes: float64(3), object(6)\n",
      "memory usage: 338.7+ KB\n"
     ]
    },
    {
     "data": {
      "text/plain": [
       "(None, None)"
      ]
     },
     "execution_count": 5,
     "metadata": {},
     "output_type": "execute_result"
    }
   ],
   "source": [
    "train.info(),test.info()"
   ]
  },
  {
   "cell_type": "code",
   "execution_count": 6,
   "id": "98a9d553",
   "metadata": {},
   "outputs": [
    {
     "data": {
      "text/html": [
       "<div>\n",
       "<style scoped>\n",
       "    .dataframe tbody tr th:only-of-type {\n",
       "        vertical-align: middle;\n",
       "    }\n",
       "\n",
       "    .dataframe tbody tr th {\n",
       "        vertical-align: top;\n",
       "    }\n",
       "\n",
       "    .dataframe thead th {\n",
       "        text-align: right;\n",
       "    }\n",
       "</style>\n",
       "<table border=\"1\" class=\"dataframe\">\n",
       "  <thead>\n",
       "    <tr style=\"text-align: right;\">\n",
       "      <th></th>\n",
       "      <th>Population -2020</th>\n",
       "      <th>Land Area (Km²)</th>\n",
       "      <th>Density (P/Km²)</th>\n",
       "    </tr>\n",
       "  </thead>\n",
       "  <tbody>\n",
       "    <tr>\n",
       "      <th>count</th>\n",
       "      <td>2.748100e+04</td>\n",
       "      <td>2.748100e+04</td>\n",
       "      <td>27481.000000</td>\n",
       "    </tr>\n",
       "    <tr>\n",
       "      <th>mean</th>\n",
       "      <td>4.018497e+07</td>\n",
       "      <td>6.621730e+05</td>\n",
       "      <td>357.686583</td>\n",
       "    </tr>\n",
       "    <tr>\n",
       "      <th>std</th>\n",
       "      <td>1.504946e+08</td>\n",
       "      <td>1.807425e+06</td>\n",
       "      <td>2013.750702</td>\n",
       "    </tr>\n",
       "    <tr>\n",
       "      <th>min</th>\n",
       "      <td>8.010000e+02</td>\n",
       "      <td>0.000000e+00</td>\n",
       "      <td>2.000000</td>\n",
       "    </tr>\n",
       "    <tr>\n",
       "      <th>25%</th>\n",
       "      <td>1.968001e+06</td>\n",
       "      <td>2.281000e+04</td>\n",
       "      <td>35.000000</td>\n",
       "    </tr>\n",
       "    <tr>\n",
       "      <th>50%</th>\n",
       "      <td>8.655535e+06</td>\n",
       "      <td>1.118900e+05</td>\n",
       "      <td>89.000000</td>\n",
       "    </tr>\n",
       "    <tr>\n",
       "      <th>75%</th>\n",
       "      <td>2.843594e+07</td>\n",
       "      <td>5.279700e+05</td>\n",
       "      <td>214.000000</td>\n",
       "    </tr>\n",
       "    <tr>\n",
       "      <th>max</th>\n",
       "      <td>1.439324e+09</td>\n",
       "      <td>1.637687e+07</td>\n",
       "      <td>26337.000000</td>\n",
       "    </tr>\n",
       "  </tbody>\n",
       "</table>\n",
       "</div>"
      ],
      "text/plain": [
       "       Population -2020  Land Area (Km²)  Density (P/Km²)\n",
       "count      2.748100e+04     2.748100e+04     27481.000000\n",
       "mean       4.018497e+07     6.621730e+05       357.686583\n",
       "std        1.504946e+08     1.807425e+06      2013.750702\n",
       "min        8.010000e+02     0.000000e+00         2.000000\n",
       "25%        1.968001e+06     2.281000e+04        35.000000\n",
       "50%        8.655535e+06     1.118900e+05        89.000000\n",
       "75%        2.843594e+07     5.279700e+05       214.000000\n",
       "max        1.439324e+09     1.637687e+07     26337.000000"
      ]
     },
     "execution_count": 6,
     "metadata": {},
     "output_type": "execute_result"
    }
   ],
   "source": [
    "train.describe()"
   ]
  },
  {
   "cell_type": "markdown",
   "id": "3875c56d",
   "metadata": {},
   "source": [
    "<u>Renaming columns</u>"
   ]
  },
  {
   "cell_type": "code",
   "execution_count": 7,
   "id": "a3c3f479",
   "metadata": {
    "scrolled": true
   },
   "outputs": [
    {
     "data": {
      "text/plain": [
       "Index(['textID', 'text', 'selected_text', 'sentiment', 'Time of Tweet',\n",
       "       'Age of User', 'Country', 'Population -2020', 'Land Area (Km²)',\n",
       "       'Density (P/Km²)'],\n",
       "      dtype='object')"
      ]
     },
     "execution_count": 7,
     "metadata": {},
     "output_type": "execute_result"
    }
   ],
   "source": [
    "train.columns"
   ]
  },
  {
   "cell_type": "code",
   "execution_count": 8,
   "id": "fb806f23",
   "metadata": {},
   "outputs": [],
   "source": [
    "dataset = [train,test]\n",
    "for dataset in dataset:\n",
    "    dataset.rename(columns={\"text\":\"tweet\",\n",
    "                            \"Age of User\":\"user_age\",\n",
    "                            \"Time of Tweet\":\"tweet_time\",\n",
    "                          \"Population -2020\":\"population\",\n",
    "                         \"Land Area (Km²)\":\"land_area\",\n",
    "                         \"Density (P/Km²)\":\"density\"},inplace=True)"
   ]
  },
  {
   "cell_type": "code",
   "execution_count": 9,
   "id": "49d7147f",
   "metadata": {},
   "outputs": [
    {
     "data": {
      "text/plain": [
       "(Index(['textID', 'tweet', 'selected_text', 'sentiment', 'tweet_time',\n",
       "        'user_age', 'Country', 'population', 'land_area', 'density'],\n",
       "       dtype='object'),\n",
       " Index(['textID', 'tweet', 'sentiment', 'tweet_time', 'user_age', 'Country',\n",
       "        'population', 'land_area', 'density'],\n",
       "       dtype='object'))"
      ]
     },
     "execution_count": 9,
     "metadata": {},
     "output_type": "execute_result"
    }
   ],
   "source": [
    "train.columns,test.columns"
   ]
  },
  {
   "cell_type": "markdown",
   "id": "194c4433",
   "metadata": {},
   "source": [
    "<u>Dropping redundant columns</u>"
   ]
  },
  {
   "cell_type": "markdown",
   "id": "86c06b54",
   "metadata": {},
   "source": [
    " - As you can see there is an extra column named \"selected_text\" in train dataset, so for data uniformity we will drop that column "
   ]
  },
  {
   "cell_type": "code",
   "execution_count": 10,
   "id": "e398e5cd",
   "metadata": {},
   "outputs": [],
   "source": [
    "train.drop(columns=\"selected_text\",inplace=True)"
   ]
  },
  {
   "cell_type": "code",
   "execution_count": 11,
   "id": "6e35e8ff",
   "metadata": {},
   "outputs": [
    {
     "data": {
      "text/plain": [
       "False"
      ]
     },
     "execution_count": 11,
     "metadata": {},
     "output_type": "execute_result"
    }
   ],
   "source": [
    "\"selected_text\" in train.columns"
   ]
  },
  {
   "cell_type": "markdown",
   "id": "286773fa",
   "metadata": {},
   "source": [
    "- \"textID\" is unique and will not contribute much in data analysis "
   ]
  },
  {
   "cell_type": "code",
   "execution_count": 12,
   "id": "a61bc298",
   "metadata": {},
   "outputs": [],
   "source": [
    "train.drop(columns=\"textID\",inplace=True)\n",
    "test.drop(columns=\"textID\",inplace=True)"
   ]
  },
  {
   "cell_type": "markdown",
   "id": "4b918e27",
   "metadata": {},
   "source": [
    "<u>Checking for duplicates</u>"
   ]
  },
  {
   "cell_type": "code",
   "execution_count": 13,
   "id": "5ea827ec",
   "metadata": {},
   "outputs": [
    {
     "data": {
      "text/plain": [
       "False    27481\n",
       "dtype: int64"
      ]
     },
     "execution_count": 13,
     "metadata": {},
     "output_type": "execute_result"
    }
   ],
   "source": [
    "train.duplicated().value_counts() #No duplicate records"
   ]
  },
  {
   "cell_type": "markdown",
   "id": "1b32a69a",
   "metadata": {},
   "source": [
    "<u>Checking for null values</u>"
   ]
  },
  {
   "cell_type": "code",
   "execution_count": 14,
   "id": "5d3dcddf",
   "metadata": {
    "scrolled": true
   },
   "outputs": [
    {
     "data": {
      "text/plain": [
       "tweet         1\n",
       "sentiment     0\n",
       "tweet_time    0\n",
       "user_age      0\n",
       "Country       0\n",
       "population    0\n",
       "land_area     0\n",
       "density       0\n",
       "dtype: int64"
      ]
     },
     "execution_count": 14,
     "metadata": {},
     "output_type": "execute_result"
    }
   ],
   "source": [
    "train.isnull().sum()"
   ]
  },
  {
   "cell_type": "markdown",
   "id": "aeb2ee07",
   "metadata": {},
   "source": [
    "Less than 10% of train records contain null values so we cam simply drop them"
   ]
  },
  {
   "cell_type": "code",
   "execution_count": 15,
   "id": "e1207111",
   "metadata": {},
   "outputs": [],
   "source": [
    "train.dropna(how=\"any\",inplace=True)"
   ]
  },
  {
   "cell_type": "code",
   "execution_count": 16,
   "id": "8e74a7e8",
   "metadata": {},
   "outputs": [
    {
     "data": {
      "text/plain": [
       "tweet         0\n",
       "sentiment     0\n",
       "tweet_time    0\n",
       "user_age      0\n",
       "Country       0\n",
       "population    0\n",
       "land_area     0\n",
       "density       0\n",
       "dtype: int64"
      ]
     },
     "execution_count": 16,
     "metadata": {},
     "output_type": "execute_result"
    }
   ],
   "source": [
    "train.isnull().sum()"
   ]
  },
  {
   "cell_type": "code",
   "execution_count": 17,
   "id": "612c1f6d",
   "metadata": {
    "scrolled": true
   },
   "outputs": [
    {
     "data": {
      "text/plain": [
       "tweet         1281\n",
       "sentiment     1281\n",
       "tweet_time    1281\n",
       "user_age      1281\n",
       "Country       1281\n",
       "population    1281\n",
       "land_area     1281\n",
       "density       1281\n",
       "dtype: int64"
      ]
     },
     "execution_count": 17,
     "metadata": {},
     "output_type": "execute_result"
    }
   ],
   "source": [
    "test.isnull().sum()"
   ]
  },
  {
   "cell_type": "markdown",
   "id": "d873e809",
   "metadata": {},
   "source": [
    "Since test dataset is just used to for model validation, not for training model. We can simply drop the null values"
   ]
  },
  {
   "cell_type": "code",
   "execution_count": 18,
   "id": "9e40f9e4",
   "metadata": {},
   "outputs": [],
   "source": [
    "test.dropna(how=\"any\",inplace=True)"
   ]
  },
  {
   "cell_type": "code",
   "execution_count": 19,
   "id": "5338cf3b",
   "metadata": {
    "scrolled": true
   },
   "outputs": [
    {
     "data": {
      "text/plain": [
       "tweet         0\n",
       "sentiment     0\n",
       "tweet_time    0\n",
       "user_age      0\n",
       "Country       0\n",
       "population    0\n",
       "land_area     0\n",
       "density       0\n",
       "dtype: int64"
      ]
     },
     "execution_count": 19,
     "metadata": {},
     "output_type": "execute_result"
    }
   ],
   "source": [
    "test.isnull().sum()"
   ]
  },
  {
   "cell_type": "markdown",
   "id": "a9ad5a71",
   "metadata": {},
   "source": [
    "<Data pre-processing>"
   ]
  },
  {
   "cell_type": "markdown",
   "id": "dda3b947",
   "metadata": {},
   "source": [
    "<u>Data pre-processing</u>"
   ]
  },
  {
   "cell_type": "markdown",
   "id": "5e355c01",
   "metadata": {},
   "source": [
    "- \"tweet\" column"
   ]
  },
  {
   "cell_type": "code",
   "execution_count": 20,
   "id": "ab95488d",
   "metadata": {},
   "outputs": [
    {
     "data": {
      "text/plain": [
       "0                  I`d have responded, if I were going\n",
       "1        Sooo SAD I will miss you here in San Diego!!!\n",
       "2                            my boss is bullying me...\n",
       "3                       what interview! leave me alone\n",
       "4     Sons of ****, why couldn`t they put them on t...\n",
       "Name: tweet, dtype: object"
      ]
     },
     "execution_count": 20,
     "metadata": {},
     "output_type": "execute_result"
    }
   ],
   "source": [
    "train.tweet[:5]"
   ]
  },
  {
   "cell_type": "code",
   "execution_count": 21,
   "id": "a785a337",
   "metadata": {},
   "outputs": [],
   "source": [
    "#Creating an object of PorterStemmer() for stemming purpose\n",
    "stemmer = PorterStemmer()"
   ]
  },
  {
   "cell_type": "code",
   "execution_count": 22,
   "id": "7d9955c2",
   "metadata": {},
   "outputs": [],
   "source": [
    "#Function for processing texts/tweets \n",
    "def TextPreprocessing(text):\n",
    "    #converting the data to lower case\n",
    "    text = text.lower() \n",
    "    #removing special characters\n",
    "    text = re.sub(\"[^a-z]\",\" \",text) \n",
    "    #removing stopwords and stemming to root words \n",
    "    text = [stemmer.stem(word) for word in nltk.word_tokenize(text) if word not in stopwords.words(\"english\")]\n",
    "    text = \" \".join(text)\n",
    "    return text"
   ]
  },
  {
   "cell_type": "code",
   "execution_count": 23,
   "id": "6de0c65e",
   "metadata": {},
   "outputs": [],
   "source": [
    "#Applying the TextPreprocessing function on tweets in train as well as test\n",
    "train.tweet = train.tweet.apply(TextPreprocessing)\n",
    "test.tweet = test.tweet.apply(TextPreprocessing)"
   ]
  },
  {
   "cell_type": "code",
   "execution_count": 24,
   "id": "f846175e",
   "metadata": {},
   "outputs": [
    {
     "data": {
      "text/plain": [
       "0                       respond go\n",
       "1          sooo sad miss san diego\n",
       "2                       boss bulli\n",
       "3              interview leav alon\n",
       "4    son put releas alreadi bought\n",
       "Name: tweet, dtype: object"
      ]
     },
     "execution_count": 24,
     "metadata": {},
     "output_type": "execute_result"
    }
   ],
   "source": [
    "train.tweet[:5]"
   ]
  },
  {
   "cell_type": "markdown",
   "id": "7aaed5d4",
   "metadata": {},
   "source": [
    "- Other columns column"
   ]
  },
  {
   "cell_type": "code",
   "execution_count": 25,
   "id": "cc0991c3",
   "metadata": {},
   "outputs": [
    {
     "name": "stdout",
     "output_type": "stream",
     "text": [
      "______________________________ \n",
      "Column : sentiment\n",
      " neutral     11117\n",
      "positive     8582\n",
      "negative     7781\n",
      "Name: sentiment, dtype: int64\n",
      "______________________________ \n",
      "Column : tweet_time\n",
      " morning    9161\n",
      "noon       9160\n",
      "night      9159\n",
      "Name: tweet_time, dtype: int64\n",
      "______________________________ \n",
      "Column : user_age\n",
      " 0-20      4581\n",
      "21-30     4580\n",
      "46-60     4580\n",
      "60-70     4580\n",
      "70-100    4580\n",
      "31-45     4579\n",
      "Name: user_age, dtype: int64\n",
      "______________________________ \n",
      "Column : Country\n",
      " Afghanistan                         149\n",
      "Democratic Republic of the Congo    149\n",
      "Egypt                               149\n",
      "Ecuador                             149\n",
      "Dominican Republic                  149\n",
      "Albania                             149\n",
      "Djibouti                            149\n",
      "Denmark                             149\n",
      "Czechia (Czech Republic)            149\n",
      "Equatorial Guinea                   149\n",
      "Name: Country, dtype: int64\n"
     ]
    }
   ],
   "source": [
    "for col in train.select_dtypes(\"object\").drop(columns=\"tweet\").columns:\n",
    "    if len(train[f\"{col}\"].value_counts())<10:\n",
    "        print(\"_\".center(30,\"_\"),f\"\\nColumn : {col}\\n\",train[f\"{col}\"].value_counts())\n",
    "    else:\n",
    "        print(\"_\".center(30,\"_\"),f\"\\nColumn : {col}\\n\",train[f\"{col}\"].value_counts().head(10))"
   ]
  },
  {
   "cell_type": "markdown",
   "id": "0a72fc5f",
   "metadata": {},
   "source": [
    "Other columns are already in required format so we do not need to process them."
   ]
  },
  {
   "cell_type": "code",
   "execution_count": 26,
   "id": "8f566380",
   "metadata": {},
   "outputs": [],
   "source": [
    "#Data after pre-processing looks like as follows"
   ]
  },
  {
   "cell_type": "code",
   "execution_count": 27,
   "id": "1e53fd5a",
   "metadata": {},
   "outputs": [
    {
     "data": {
      "text/html": [
       "<div>\n",
       "<style scoped>\n",
       "    .dataframe tbody tr th:only-of-type {\n",
       "        vertical-align: middle;\n",
       "    }\n",
       "\n",
       "    .dataframe tbody tr th {\n",
       "        vertical-align: top;\n",
       "    }\n",
       "\n",
       "    .dataframe thead th {\n",
       "        text-align: right;\n",
       "    }\n",
       "</style>\n",
       "<table border=\"1\" class=\"dataframe\">\n",
       "  <thead>\n",
       "    <tr style=\"text-align: right;\">\n",
       "      <th></th>\n",
       "      <th>tweet</th>\n",
       "      <th>sentiment</th>\n",
       "      <th>tweet_time</th>\n",
       "      <th>user_age</th>\n",
       "      <th>Country</th>\n",
       "      <th>population</th>\n",
       "      <th>land_area</th>\n",
       "      <th>density</th>\n",
       "    </tr>\n",
       "  </thead>\n",
       "  <tbody>\n",
       "    <tr>\n",
       "      <th>0</th>\n",
       "      <td>respond go</td>\n",
       "      <td>neutral</td>\n",
       "      <td>morning</td>\n",
       "      <td>0-20</td>\n",
       "      <td>Afghanistan</td>\n",
       "      <td>38928346</td>\n",
       "      <td>652860.0</td>\n",
       "      <td>60</td>\n",
       "    </tr>\n",
       "    <tr>\n",
       "      <th>1</th>\n",
       "      <td>sooo sad miss san diego</td>\n",
       "      <td>negative</td>\n",
       "      <td>noon</td>\n",
       "      <td>21-30</td>\n",
       "      <td>Albania</td>\n",
       "      <td>2877797</td>\n",
       "      <td>27400.0</td>\n",
       "      <td>105</td>\n",
       "    </tr>\n",
       "    <tr>\n",
       "      <th>2</th>\n",
       "      <td>boss bulli</td>\n",
       "      <td>negative</td>\n",
       "      <td>night</td>\n",
       "      <td>31-45</td>\n",
       "      <td>Algeria</td>\n",
       "      <td>43851044</td>\n",
       "      <td>2381740.0</td>\n",
       "      <td>18</td>\n",
       "    </tr>\n",
       "  </tbody>\n",
       "</table>\n",
       "</div>"
      ],
      "text/plain": [
       "                     tweet sentiment tweet_time user_age      Country  \\\n",
       "0               respond go   neutral    morning     0-20  Afghanistan   \n",
       "1  sooo sad miss san diego  negative       noon    21-30      Albania   \n",
       "2               boss bulli  negative      night    31-45      Algeria   \n",
       "\n",
       "   population  land_area  density  \n",
       "0    38928346   652860.0       60  \n",
       "1     2877797    27400.0      105  \n",
       "2    43851044  2381740.0       18  "
      ]
     },
     "execution_count": 27,
     "metadata": {},
     "output_type": "execute_result"
    }
   ],
   "source": [
    "train.head(3)"
   ]
  },
  {
   "cell_type": "code",
   "execution_count": 28,
   "id": "324206d9",
   "metadata": {},
   "outputs": [
    {
     "data": {
      "text/html": [
       "<div>\n",
       "<style scoped>\n",
       "    .dataframe tbody tr th:only-of-type {\n",
       "        vertical-align: middle;\n",
       "    }\n",
       "\n",
       "    .dataframe tbody tr th {\n",
       "        vertical-align: top;\n",
       "    }\n",
       "\n",
       "    .dataframe thead th {\n",
       "        text-align: right;\n",
       "    }\n",
       "</style>\n",
       "<table border=\"1\" class=\"dataframe\">\n",
       "  <thead>\n",
       "    <tr style=\"text-align: right;\">\n",
       "      <th></th>\n",
       "      <th>tweet</th>\n",
       "      <th>sentiment</th>\n",
       "      <th>tweet_time</th>\n",
       "      <th>user_age</th>\n",
       "      <th>Country</th>\n",
       "      <th>population</th>\n",
       "      <th>land_area</th>\n",
       "      <th>density</th>\n",
       "    </tr>\n",
       "  </thead>\n",
       "  <tbody>\n",
       "    <tr>\n",
       "      <th>0</th>\n",
       "      <td>last session day http twitpic com ezh</td>\n",
       "      <td>neutral</td>\n",
       "      <td>morning</td>\n",
       "      <td>0-20</td>\n",
       "      <td>Afghanistan</td>\n",
       "      <td>38928346.0</td>\n",
       "      <td>652860.0</td>\n",
       "      <td>60.0</td>\n",
       "    </tr>\n",
       "    <tr>\n",
       "      <th>1</th>\n",
       "      <td>shanghai also realli excit precis skyscrap gal...</td>\n",
       "      <td>positive</td>\n",
       "      <td>noon</td>\n",
       "      <td>21-30</td>\n",
       "      <td>Albania</td>\n",
       "      <td>2877797.0</td>\n",
       "      <td>27400.0</td>\n",
       "      <td>105.0</td>\n",
       "    </tr>\n",
       "    <tr>\n",
       "      <th>2</th>\n",
       "      <td>recess hit veroniqu branquinho quit compani shame</td>\n",
       "      <td>negative</td>\n",
       "      <td>night</td>\n",
       "      <td>31-45</td>\n",
       "      <td>Algeria</td>\n",
       "      <td>43851044.0</td>\n",
       "      <td>2381740.0</td>\n",
       "      <td>18.0</td>\n",
       "    </tr>\n",
       "  </tbody>\n",
       "</table>\n",
       "</div>"
      ],
      "text/plain": [
       "                                               tweet sentiment tweet_time  \\\n",
       "0              last session day http twitpic com ezh   neutral    morning   \n",
       "1  shanghai also realli excit precis skyscrap gal...  positive       noon   \n",
       "2  recess hit veroniqu branquinho quit compani shame  negative      night   \n",
       "\n",
       "  user_age      Country  population  land_area  density  \n",
       "0     0-20  Afghanistan  38928346.0   652860.0     60.0  \n",
       "1    21-30      Albania   2877797.0    27400.0    105.0  \n",
       "2    31-45      Algeria  43851044.0  2381740.0     18.0  "
      ]
     },
     "execution_count": 28,
     "metadata": {},
     "output_type": "execute_result"
    }
   ],
   "source": [
    "test.head(3)"
   ]
  },
  {
   "cell_type": "markdown",
   "id": "49c5b624",
   "metadata": {},
   "source": [
    "<u>Exporting/Saving processed data</u>"
   ]
  },
  {
   "cell_type": "code",
   "execution_count": 29,
   "id": "fb22cb03",
   "metadata": {},
   "outputs": [],
   "source": [
    "train.to_csv(\"processed_train\",index=False)\n",
    "test.to_csv(\"processed_test\",index=False)"
   ]
  },
  {
   "cell_type": "code",
   "execution_count": 30,
   "id": "8cf1582b",
   "metadata": {},
   "outputs": [
    {
     "data": {
      "text/html": [
       "<div>\n",
       "<style scoped>\n",
       "    .dataframe tbody tr th:only-of-type {\n",
       "        vertical-align: middle;\n",
       "    }\n",
       "\n",
       "    .dataframe tbody tr th {\n",
       "        vertical-align: top;\n",
       "    }\n",
       "\n",
       "    .dataframe thead th {\n",
       "        text-align: right;\n",
       "    }\n",
       "</style>\n",
       "<table border=\"1\" class=\"dataframe\">\n",
       "  <thead>\n",
       "    <tr style=\"text-align: right;\">\n",
       "      <th></th>\n",
       "      <th>tweet</th>\n",
       "      <th>sentiment</th>\n",
       "      <th>tweet_time</th>\n",
       "      <th>user_age</th>\n",
       "      <th>Country</th>\n",
       "      <th>population</th>\n",
       "      <th>land_area</th>\n",
       "      <th>density</th>\n",
       "    </tr>\n",
       "  </thead>\n",
       "  <tbody>\n",
       "    <tr>\n",
       "      <th>0</th>\n",
       "      <td>respond go</td>\n",
       "      <td>neutral</td>\n",
       "      <td>morning</td>\n",
       "      <td>0-20</td>\n",
       "      <td>Afghanistan</td>\n",
       "      <td>38928346</td>\n",
       "      <td>652860.0</td>\n",
       "      <td>60</td>\n",
       "    </tr>\n",
       "    <tr>\n",
       "      <th>1</th>\n",
       "      <td>sooo sad miss san diego</td>\n",
       "      <td>negative</td>\n",
       "      <td>noon</td>\n",
       "      <td>21-30</td>\n",
       "      <td>Albania</td>\n",
       "      <td>2877797</td>\n",
       "      <td>27400.0</td>\n",
       "      <td>105</td>\n",
       "    </tr>\n",
       "    <tr>\n",
       "      <th>2</th>\n",
       "      <td>boss bulli</td>\n",
       "      <td>negative</td>\n",
       "      <td>night</td>\n",
       "      <td>31-45</td>\n",
       "      <td>Algeria</td>\n",
       "      <td>43851044</td>\n",
       "      <td>2381740.0</td>\n",
       "      <td>18</td>\n",
       "    </tr>\n",
       "  </tbody>\n",
       "</table>\n",
       "</div>"
      ],
      "text/plain": [
       "                     tweet sentiment tweet_time user_age      Country  \\\n",
       "0               respond go   neutral    morning     0-20  Afghanistan   \n",
       "1  sooo sad miss san diego  negative       noon    21-30      Albania   \n",
       "2               boss bulli  negative      night    31-45      Algeria   \n",
       "\n",
       "   population  land_area  density  \n",
       "0    38928346   652860.0       60  \n",
       "1     2877797    27400.0      105  \n",
       "2    43851044  2381740.0       18  "
      ]
     },
     "execution_count": 30,
     "metadata": {},
     "output_type": "execute_result"
    }
   ],
   "source": [
    "pd.read_csv(\"processed_train\",keep_default_na=False).head(3)"
   ]
  },
  {
   "cell_type": "code",
   "execution_count": 31,
   "id": "a941066b",
   "metadata": {},
   "outputs": [
    {
     "data": {
      "text/html": [
       "<div>\n",
       "<style scoped>\n",
       "    .dataframe tbody tr th:only-of-type {\n",
       "        vertical-align: middle;\n",
       "    }\n",
       "\n",
       "    .dataframe tbody tr th {\n",
       "        vertical-align: top;\n",
       "    }\n",
       "\n",
       "    .dataframe thead th {\n",
       "        text-align: right;\n",
       "    }\n",
       "</style>\n",
       "<table border=\"1\" class=\"dataframe\">\n",
       "  <thead>\n",
       "    <tr style=\"text-align: right;\">\n",
       "      <th></th>\n",
       "      <th>tweet</th>\n",
       "      <th>sentiment</th>\n",
       "      <th>tweet_time</th>\n",
       "      <th>user_age</th>\n",
       "      <th>Country</th>\n",
       "      <th>population</th>\n",
       "      <th>land_area</th>\n",
       "      <th>density</th>\n",
       "    </tr>\n",
       "  </thead>\n",
       "  <tbody>\n",
       "    <tr>\n",
       "      <th>0</th>\n",
       "      <td>last session day http twitpic com ezh</td>\n",
       "      <td>neutral</td>\n",
       "      <td>morning</td>\n",
       "      <td>0-20</td>\n",
       "      <td>Afghanistan</td>\n",
       "      <td>38928346.0</td>\n",
       "      <td>652860.0</td>\n",
       "      <td>60.0</td>\n",
       "    </tr>\n",
       "    <tr>\n",
       "      <th>1</th>\n",
       "      <td>shanghai also realli excit precis skyscrap gal...</td>\n",
       "      <td>positive</td>\n",
       "      <td>noon</td>\n",
       "      <td>21-30</td>\n",
       "      <td>Albania</td>\n",
       "      <td>2877797.0</td>\n",
       "      <td>27400.0</td>\n",
       "      <td>105.0</td>\n",
       "    </tr>\n",
       "    <tr>\n",
       "      <th>2</th>\n",
       "      <td>recess hit veroniqu branquinho quit compani shame</td>\n",
       "      <td>negative</td>\n",
       "      <td>night</td>\n",
       "      <td>31-45</td>\n",
       "      <td>Algeria</td>\n",
       "      <td>43851044.0</td>\n",
       "      <td>2381740.0</td>\n",
       "      <td>18.0</td>\n",
       "    </tr>\n",
       "  </tbody>\n",
       "</table>\n",
       "</div>"
      ],
      "text/plain": [
       "                                               tweet sentiment tweet_time  \\\n",
       "0              last session day http twitpic com ezh   neutral    morning   \n",
       "1  shanghai also realli excit precis skyscrap gal...  positive       noon   \n",
       "2  recess hit veroniqu branquinho quit compani shame  negative      night   \n",
       "\n",
       "  user_age      Country  population  land_area  density  \n",
       "0     0-20  Afghanistan  38928346.0   652860.0     60.0  \n",
       "1    21-30      Albania   2877797.0    27400.0    105.0  \n",
       "2    31-45      Algeria  43851044.0  2381740.0     18.0  "
      ]
     },
     "execution_count": 31,
     "metadata": {},
     "output_type": "execute_result"
    }
   ],
   "source": [
    "pd.read_csv(\"processed_test\",keep_default_na=False).head(3)"
   ]
  },
  {
   "cell_type": "markdown",
   "id": "376d7594",
   "metadata": {},
   "source": [
    "*Next -> 02_EDA*"
   ]
  },
  {
   "cell_type": "code",
   "execution_count": null,
   "id": "206687b6",
   "metadata": {},
   "outputs": [],
   "source": []
  }
 ],
 "metadata": {
  "kernelspec": {
   "display_name": "Python 3 (ipykernel)",
   "language": "python",
   "name": "python3"
  },
  "language_info": {
   "codemirror_mode": {
    "name": "ipython",
    "version": 3
   },
   "file_extension": ".py",
   "mimetype": "text/x-python",
   "name": "python",
   "nbconvert_exporter": "python",
   "pygments_lexer": "ipython3",
   "version": "3.10.0"
  }
 },
 "nbformat": 4,
 "nbformat_minor": 5
}
