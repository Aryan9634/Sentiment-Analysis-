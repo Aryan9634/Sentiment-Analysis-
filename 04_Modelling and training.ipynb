{
 "cells": [
  {
   "cell_type": "markdown",
   "id": "08d436c9",
   "metadata": {},
   "source": [
    "**04_Modelling and training**"
   ]
  },
  {
   "cell_type": "markdown",
   "id": "a3f052e5",
   "metadata": {},
   "source": [
    "<u>Importing required modules</u>"
   ]
  },
  {
   "cell_type": "code",
   "execution_count": 14,
   "id": "0bbcd078",
   "metadata": {},
   "outputs": [],
   "source": [
    "#Data preprocessing\n",
    "import numpy as np\n",
    "import pandas as pd\n",
    "import xgboost as xgb\n",
    "from tqdm import tqdm\n",
    "import matplotlib.pyplot as plt\n",
    "%matplotlib inline\n",
    "\n",
    "#Models\n",
    "from sklearn.neighbors import KNeighborsClassifier\n",
    "from sklearn.svm import SVC\n",
    "from sklearn.naive_bayes import MultinomialNB,GaussianNB,BernoulliNB\n",
    "from sklearn.linear_model import LogisticRegression\n",
    "\n",
    "from sklearn.ensemble import RandomForestClassifier,GradientBoostingClassifier,VotingClassifier\n",
    "\n",
    "#Hyperparamter optimization\n",
    "from sklearn.model_selection import GridSearchCV,RandomizedSearchCV\n",
    "\n",
    "#Training\n",
    "from sklearn.model_selection import StratifiedKFold\n",
    "\n",
    "from sklearn.metrics import accuracy_score\n",
    "\n",
    "#Handing warnings\n",
    "import warnings\n",
    "warnings.filterwarnings(\"ignore\")\n",
    "import pickle\n",
    "import os"
   ]
  },
  {
   "cell_type": "markdown",
   "id": "2aa29060",
   "metadata": {},
   "source": [
    "<u>Loading data</u>"
   ]
  },
  {
   "cell_type": "markdown",
   "id": "60dad33f",
   "metadata": {},
   "source": [
    "- Extracting features and labels"
   ]
  },
  {
   "cell_type": "code",
   "execution_count": 2,
   "id": "472a2adb",
   "metadata": {},
   "outputs": [
    {
     "name": "stdout",
     "output_type": "stream",
     "text": [
      "FEATURES AND TARGETS LOADED SUCCESSFULLY\n"
     ]
    }
   ],
   "source": [
    "for filename in os.listdir():\n",
    "    if filename[-3:]==\"pkl\" or filename[:9]==\"processed_train\":\n",
    "        X_train = pickle.load(open(\"X_train.pkl\",\"rb\"))\n",
    "        X_test = pickle.load(open(\"X_test.pkl\",\"rb\"))\n",
    "        y_train = pd.read_csv(\"processed_train\",keep_default_na=False).sentiment\n",
    "        y_test = pd.read_csv(\"processed_test\",keep_default_na=False).sentiment\n",
    "        print(\"FEATURES AND TARGETS LOADED SUCCESSFULLY\")\n",
    "        break\n",
    "        \n",
    "else:\n",
    "    print(\"No such file\")"
   ]
  },
  {
   "cell_type": "code",
   "execution_count": 3,
   "id": "d109d5e6",
   "metadata": {},
   "outputs": [
    {
     "data": {
      "text/plain": [
       "((50,), (50,))"
      ]
     },
     "execution_count": 3,
     "metadata": {},
     "output_type": "execute_result"
    }
   ],
   "source": [
    "#Features\n",
    "X_train[0].shape,X_test[0].shape"
   ]
  },
  {
   "cell_type": "code",
   "execution_count": 4,
   "id": "5a45493c",
   "metadata": {
    "scrolled": false
   },
   "outputs": [],
   "source": [
    "# X_train = np.abs(X_train[0])\n",
    "# X_test = np.abs(X_test[0])"
   ]
  },
  {
   "cell_type": "code",
   "execution_count": 5,
   "id": "0523a63f",
   "metadata": {},
   "outputs": [
    {
     "data": {
      "text/plain": [
       "((27480, 50), (3534, 50))"
      ]
     },
     "execution_count": 5,
     "metadata": {},
     "output_type": "execute_result"
    }
   ],
   "source": [
    "X_train.shape,X_test.shape"
   ]
  },
  {
   "cell_type": "code",
   "execution_count": 6,
   "id": "123b9b34",
   "metadata": {},
   "outputs": [
    {
     "data": {
      "text/plain": [
       "((27480,), (3534,))"
      ]
     },
     "execution_count": 6,
     "metadata": {},
     "output_type": "execute_result"
    }
   ],
   "source": [
    "#Targets\n",
    "y_train.shape,y_test.shape"
   ]
  },
  {
   "cell_type": "markdown",
   "id": "ba9f4c15",
   "metadata": {},
   "source": [
    "- Model Selection"
   ]
  },
  {
   "cell_type": "code",
   "execution_count": 7,
   "id": "8a2a062c",
   "metadata": {},
   "outputs": [
    {
     "data": {
      "text/plain": [
       "{'weights': 'uniform', 'n_neighbors': 23, 'metric': 'minkowski'}"
      ]
     },
     "execution_count": 7,
     "metadata": {},
     "output_type": "execute_result"
    }
   ],
   "source": [
    "# #KNN model\n",
    "knn = KNeighborsClassifier()\n",
    "knn_param_grid = {\"n_neighbors\":range(3,25,2),\n",
    "                 \"weights\":[\"uniform\",\"distance\"],\n",
    "                 \"metric\":[\"manhattan\",\"euclidean\",\"minkowski\"]}\n",
    "rs_knn = RandomizedSearchCV(knn,param_distributions=knn_param_grid,n_iter=30,cv=5)\n",
    "rs_knn.fit(X_train,y_train)\n",
    "rs_knn.best_params_"
   ]
  },
  {
   "cell_type": "code",
   "execution_count": 8,
   "id": "c2254bd5",
   "metadata": {},
   "outputs": [],
   "source": [
    "knn_model = rs_knn.best_estimator_\n",
    "pickle.dump(knn_model,open(\"KNN_Model.pkl\",\"wb\"))"
   ]
  },
  {
   "cell_type": "code",
   "execution_count": 9,
   "id": "3b7d825c",
   "metadata": {},
   "outputs": [],
   "source": [
    "#SVC model\n",
    "svc = SVC().fit(X_train,y_train)"
   ]
  },
  {
   "cell_type": "code",
   "execution_count": 10,
   "id": "9d724e6b",
   "metadata": {},
   "outputs": [],
   "source": [
    "pickle.dump(svc,open(\"SVC_Model.pkl\",\"wb\"))"
   ]
  },
  {
   "cell_type": "markdown",
   "id": "f3dc157f",
   "metadata": {},
   "source": [
    "*Won't be performing hyperparamter optimization for SVM because it takes too much time*"
   ]
  },
  {
   "cell_type": "code",
   "execution_count": 11,
   "id": "30dae61c",
   "metadata": {},
   "outputs": [],
   "source": [
    "#Naive bayes\n",
    "mnb = MultinomialNB()\n",
    "gnb = GaussianNB()\n",
    "bnb = BernoulliNB()\n",
    "#These models are fast so we do not need to save the trained model"
   ]
  },
  {
   "cell_type": "code",
   "execution_count": 12,
   "id": "e67240ca",
   "metadata": {},
   "outputs": [
    {
     "data": {
      "text/plain": [
       "{'C': 100, 'penalty': 'l1', 'solver': 'saga'}"
      ]
     },
     "execution_count": 12,
     "metadata": {},
     "output_type": "execute_result"
    }
   ],
   "source": [
    "#Logistic Regression Classifier\n",
    "lr = LogisticRegression()\n",
    "lr_param_grid = {'C':[0.1,1,10,100],\n",
    "                 'penalty':['l1','l2'],\n",
    "                 'solver':['liblinear','saga','lbfgs']}\n",
    "# lr_rs = RandomizedSearchCV(lr,param_distributions=lr_param_grid,n_iter=15,cv=5)\n",
    "lr_gs = GridSearchCV(lr,param_grid=lr_param_grid,cv=5)\n",
    "lr_gs.fit(X_train,y_train)\n",
    "lr_gs.best_params_"
   ]
  },
  {
   "cell_type": "code",
   "execution_count": 13,
   "id": "28f7f615",
   "metadata": {},
   "outputs": [],
   "source": [
    "lr_model = lr_gs.best_estimator_\n",
    "pickle.dump(lr_model,open(\"LineaerRegression_Model.pkl\",\"wb\"))"
   ]
  },
  {
   "cell_type": "code",
   "execution_count": 14,
   "id": "01d491b1",
   "metadata": {},
   "outputs": [
    {
     "data": {
      "text/plain": [
       "{'n_estimators': 10,\n",
       " 'min_samples_split': 2,\n",
       " 'min_samples_leaf': 3,\n",
       " 'max_samples': 10000,\n",
       " 'max_features': 8,\n",
       " 'max_depth': None}"
      ]
     },
     "execution_count": 14,
     "metadata": {},
     "output_type": "execute_result"
    }
   ],
   "source": [
    "#RandomForest\n",
    "rf = RandomForestClassifier()\n",
    "rf_param_grid = {\"n_estimators\":np.arange(10,1000,100),\n",
    "                  \"max_depth\":[None,3,5,10],\n",
    "                  \"min_samples_split\":np.arange(2,20,2),\n",
    "                  \"min_samples_leaf\":np.arange(1,20,2),\n",
    "                  \"max_features\":range(2,10,2),\n",
    "                  \"max_samples\":[10000]}\n",
    "rf_rs = RandomizedSearchCV(rf,param_distributions=rf_param_grid,n_iter=20,cv=5)\n",
    "# rf_gs = GridSearchCV(rf,param_grid=rf_param_grid,cv=5)\n",
    "rf_rs.fit(X_train,y_train)\n",
    "rf_rs.best_params_"
   ]
  },
  {
   "cell_type": "code",
   "execution_count": 15,
   "id": "dc46a6fe",
   "metadata": {},
   "outputs": [],
   "source": [
    "rf_model = rf_rs.best_estimator_\n",
    "pickle.dump(rf_model,open(\"RandomForest_Model.pkl\",\"wb\"))"
   ]
  },
  {
   "cell_type": "code",
   "execution_count": 16,
   "id": "a13b2477",
   "metadata": {},
   "outputs": [
    {
     "data": {
      "text/plain": [
       "{'n_estimators': 40,\n",
       " 'min_samples_leaf': 7,\n",
       " 'max_features': 4,\n",
       " 'max_depth': None,\n",
       " 'learning_rate': 0.1}"
      ]
     },
     "execution_count": 16,
     "metadata": {},
     "output_type": "execute_result"
    }
   ],
   "source": [
    "#Gradient Boosting Classifier\n",
    "gb = GradientBoostingClassifier()\n",
    "gb_param_grid = {\"n_estimators\":np.arange(10,100,10),\n",
    "                  \"learning_rate\":[0.1,0.05,0.2],\n",
    "                  \"min_samples_leaf\":np.arange(1,20,2),\n",
    "                  \"max_depth\":[1,3,None],\n",
    "                  \"max_features\":range(2,10,2)}\n",
    "gb_rs = RandomizedSearchCV(gb,param_distributions=gb_param_grid,n_iter=20,cv=5)\n",
    "# gb_rs = GridSearchCV(gb,param_grid=gb_param_grid,cv=5)\n",
    "gb_rs.fit(X_train,y_train)\n",
    "gb_rs.best_params_"
   ]
  },
  {
   "cell_type": "code",
   "execution_count": 17,
   "id": "26ee2758",
   "metadata": {},
   "outputs": [],
   "source": [
    "gb_model = gb_rs.best_estimator_\n",
    "pickle.dump(gb_model,open(\"GradientBoosting_Model.pkl\",\"wb\"))"
   ]
  },
  {
   "cell_type": "markdown",
   "id": "e281bf49",
   "metadata": {},
   "source": [
    "Voting Classifier"
   ]
  },
  {
   "cell_type": "code",
   "execution_count": 18,
   "id": "0a0e316a",
   "metadata": {},
   "outputs": [
    {
     "data": {
      "text/plain": [
       "[('MultinomialNB', MultinomialNB()),\n",
       " ('GaussianNB', GaussianNB()),\n",
       " ('BernoulliNB', BernoulliNB()),\n",
       " ('KNN', KNeighborsClassifier(n_neighbors=23)),\n",
       " ('LogisticRegression',\n",
       "  LogisticRegression(C=100, penalty='l1', solver='saga')),\n",
       " ('RandomForest',\n",
       "  RandomForestClassifier(max_features=8, max_samples=10000, min_samples_leaf=3,\n",
       "                         n_estimators=10)),\n",
       " ('GradientBoosting',\n",
       "  GradientBoostingClassifier(max_depth=None, max_features=4, min_samples_leaf=7,\n",
       "                             n_estimators=40)),\n",
       " ('SVM', SVC())]"
      ]
     },
     "execution_count": 18,
     "metadata": {},
     "output_type": "execute_result"
    }
   ],
   "source": [
    "#Won't give SVM as an estimator because it takes too much time here too, will compare it's performance with voting classifier later\n",
    "estimator = []\n",
    "classifiers = [\"MultinomialNB\",\"GaussianNB\",\"BernoulliNB\",\n",
    "               \"KNN\",\"LogisticRegression\",\n",
    "               \"RandomForest\",\"GradientBoosting\",\"SVM\"]\n",
    "models = [mnb,gnb,bnb,\n",
    "          pickle.load(open(\"KNN_Model.pkl\",\"rb\")),\n",
    "          pickle.load(open(\"LineaerRegression_Model.pkl\",\"rb\")),\n",
    "          pickle.load(open(\"RandomForest_Model.pkl\",\"rb\")),\n",
    "          pickle.load(open(\"GradientBoosting_Model.pkl\",\"rb\")),\n",
    "          pickle.load(open(\"SVC_Model.pkl\",\"rb\"))] \n",
    "for i,j in zip(classifiers,models):\n",
    "    estimator.append((i,j))\n",
    "estimator"
   ]
  },
  {
   "cell_type": "code",
   "execution_count": 19,
   "id": "3156d97f",
   "metadata": {},
   "outputs": [],
   "source": [
    "#Voting Classifier\n",
    "vc = VotingClassifier(estimators=estimator)"
   ]
  },
  {
   "cell_type": "markdown",
   "id": "215648ad",
   "metadata": {},
   "source": [
    "<u>Training model</u>"
   ]
  },
  {
   "cell_type": "code",
   "execution_count": 20,
   "id": "e3f12c5e",
   "metadata": {},
   "outputs": [
    {
     "data": {
      "text/plain": [
       "VotingClassifier(estimators=[('MultinomialNB', MultinomialNB()),\n",
       "                             ('GaussianNB', GaussianNB()),\n",
       "                             ('BernoulliNB', BernoulliNB()),\n",
       "                             ('KNN', KNeighborsClassifier(n_neighbors=23)),\n",
       "                             ('LogisticRegression',\n",
       "                              LogisticRegression(C=100, penalty='l1',\n",
       "                                                 solver='saga')),\n",
       "                             ('RandomForest',\n",
       "                              RandomForestClassifier(max_features=8,\n",
       "                                                     max_samples=10000,\n",
       "                                                     min_samples_leaf=3,\n",
       "                                                     n_estimators=10)),\n",
       "                             ('GradientBoosting',\n",
       "                              GradientBoostingClassifier(max_depth=None,\n",
       "                                                         max_features=4,\n",
       "                                                         min_samples_leaf=7,\n",
       "                                                         n_estimators=40)),\n",
       "                             ('SVM', SVC())])"
      ]
     },
     "execution_count": 20,
     "metadata": {},
     "output_type": "execute_result"
    }
   ],
   "source": [
    "vc.fit(X_train,y_train)"
   ]
  },
  {
   "cell_type": "code",
   "execution_count": 21,
   "id": "f475724c",
   "metadata": {},
   "outputs": [],
   "source": [
    "#Creating a pickle file of votingClassifier model\n",
    "pickle.dump(vc,open(\"voting_Model.pkl\",\"wb\"))"
   ]
  },
  {
   "cell_type": "code",
   "execution_count": 22,
   "id": "d5ede8b8",
   "metadata": {},
   "outputs": [
    {
     "name": "stderr",
     "output_type": "stream",
     "text": [
      " 38%|███████████████████████████████▌                                                    | 3/8 [00:00<00:00, 24.43it/s]"
     ]
    },
    {
     "name": "stdout",
     "output_type": "stream",
     "text": [
      "MultinomialNB\n",
      "GaussianNB\n",
      "BernoulliNB\n",
      "KNN\n",
      "LogisticRegression\n"
     ]
    },
    {
     "name": "stderr",
     "output_type": "stream",
     "text": [
      "\r",
      " 75%|███████████████████████████████████████████████████████████████                     | 6/8 [00:03<00:01,  1.37it/s]"
     ]
    },
    {
     "name": "stdout",
     "output_type": "stream",
     "text": [
      "RandomForest\n",
      "GradientBoosting\n",
      "SVM\n"
     ]
    },
    {
     "name": "stderr",
     "output_type": "stream",
     "text": [
      "100%|████████████████████████████████████████████████████████████████████████████████████| 8/8 [00:54<00:00,  6.79s/it]\n"
     ]
    }
   ],
   "source": [
    "#Time taken by each estimator in voting classifier\n",
    "for name, clf in tqdm(vc.named_estimators.items()):\n",
    "    print(name)\n",
    "    clf.fit(X_train, y_train)"
   ]
  },
  {
   "cell_type": "code",
   "execution_count": 7,
   "id": "d6d05b04",
   "metadata": {},
   "outputs": [],
   "source": [
    "vc = pickle.load(open(\"voting_Model.pkl\",\"rb\"))"
   ]
  },
  {
   "cell_type": "code",
   "execution_count": 8,
   "id": "3e67e0e9",
   "metadata": {},
   "outputs": [
    {
     "data": {
      "text/plain": [
       "(0.6709243085880641, 0.6001697792869269)"
      ]
     },
     "execution_count": 8,
     "metadata": {},
     "output_type": "execute_result"
    }
   ],
   "source": [
    "vc.score(X_train,y_train),vc.score(X_test,y_test)"
   ]
  },
  {
   "cell_type": "markdown",
   "id": "74df0ce7",
   "metadata": {},
   "source": [
    "Evaluation "
   ]
  },
  {
   "cell_type": "code",
   "execution_count": 11,
   "id": "e2556e1c",
   "metadata": {},
   "outputs": [],
   "source": [
    "from sklearn.metrics import confusion_matrix\n",
    "from mlxtend.plotting import plot_confusion_matrix"
   ]
  },
  {
   "cell_type": "code",
   "execution_count": 15,
   "id": "a6d55e30",
   "metadata": {},
   "outputs": [
    {
     "data": {
      "image/png": "[encoded data removed]",
      "text/plain": [
       "<Figure size 432x288 with 1 Axes>"
      ]
     },
     "metadata": {
      "needs_background": "light"
     },
     "output_type": "display_data"
    }
   ],
   "source": [
    "matrix = confusion_matrix(y_test,vc.predict(X_test))\n",
    "fig, ax = plot_confusion_matrix(conf_mat=matrix)\n",
    "plt.show()"
   ]
  },
  {
   "cell_type": "code",
   "execution_count": null,
   "id": "cf4a465a",
   "metadata": {},
   "outputs": [],
   "source": []
  }
 ],
 "metadata": {
  "kernelspec": {
   "display_name": "Python 3 (ipykernel)",
   "language": "python",
   "name": "python3"
  },
  "language_info": {
   "codemirror_mode": {
    "name": "ipython",
    "version": 3
   },
   "file_extension": ".py",
   "mimetype": "text/x-python",
   "name": "python",
   "nbconvert_exporter": "python",
   "pygments_lexer": "ipython3",
   "version": "3.10.0"
  }
 },
 "nbformat": 4,
 "nbformat_minor": 5
}
